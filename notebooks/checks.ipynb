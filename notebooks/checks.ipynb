{
 "cells": [
  {
   "cell_type": "code",
   "execution_count": 1,
   "id": "36c48a5b",
   "metadata": {},
   "outputs": [],
   "source": [
    "import torch"
   ]
  },
  {
   "cell_type": "code",
   "execution_count": 3,
   "id": "ad70ec0e",
   "metadata": {},
   "outputs": [
    {
     "name": "stdout",
     "output_type": "stream",
     "text": [
      "1\n"
     ]
    }
   ],
   "source": [
    "print(torch.cuda.device_count())\n"
   ]
  },
  {
   "cell_type": "code",
   "execution_count": 4,
   "id": "050f98b2",
   "metadata": {},
   "outputs": [
    {
     "name": "stdout",
     "output_type": "stream",
     "text": [
      "NVIDIA GeForce RTX 3060\n"
     ]
    }
   ],
   "source": [
    "print(torch.cuda.get_device_name(0))"
   ]
  },
  {
   "cell_type": "code",
   "execution_count": 5,
   "id": "bfc0483b",
   "metadata": {},
   "outputs": [
    {
     "name": "stdout",
     "output_type": "stream",
     "text": [
      "True\n"
     ]
    }
   ],
   "source": [
    "print(torch.cuda.is_available())"
   ]
  },
  {
   "cell_type": "code",
   "execution_count": 17,
   "id": "efa0f16f",
   "metadata": {},
   "outputs": [
    {
     "name": "stdout",
     "output_type": "stream",
     "text": [
      "12.8\n",
      "2.7.1\n"
     ]
    }
   ],
   "source": [
    "print(torch.version.cuda)\n",
    "print(torch.__version__)"
   ]
  },
  {
   "cell_type": "code",
   "execution_count": 14,
   "id": "78acf935",
   "metadata": {},
   "outputs": [
    {
     "name": "stdout",
     "output_type": "stream",
     "text": [
      "val_image_0000.png: 512x512\n",
      "val_image_0001.png: 512x512\n",
      "val_image_0002.png: 512x512\n",
      "val_image_0003.png: 512x512\n",
      "val_image_0004.png: 512x512\n",
      "val_image_0005.png: 512x512\n",
      "val_image_0006.png: 512x512\n",
      "val_image_0007.png: 512x512\n",
      "val_image_0008.png: 512x512\n",
      "val_image_0009.png: 512x512\n",
      "val_image_0010.png: 512x512\n",
      "val_image_0011.png: 512x512\n",
      "val_image_0012.png: 512x512\n",
      "val_image_0013.png: 512x512\n",
      "val_image_0014.png: 512x512\n",
      "val_image_0015.png: 512x512\n",
      "val_image_0016.png: 512x512\n",
      "val_image_0017.png: 512x512\n",
      "val_image_0018.png: 512x512\n",
      "val_image_0019.png: 512x512\n",
      "val_image_0020.png: 512x512\n",
      "val_image_0021.png: 512x512\n",
      "val_image_0022.png: 512x512\n",
      "val_image_0023.png: 512x512\n",
      "val_image_0024.png: 512x512\n",
      "val_image_0025.png: 512x512\n",
      "val_image_0026.png: 512x512\n",
      "val_image_0027.png: 512x512\n",
      "val_image_0028.png: 512x512\n",
      "val_image_0029.png: 512x512\n",
      "val_image_0030.png: 512x512\n",
      "val_image_0031.png: 512x512\n",
      "val_image_0032.png: 512x512\n",
      "val_image_0033.png: 512x512\n",
      "val_image_0034.png: 512x512\n",
      "val_image_0035.png: 512x512\n",
      "val_image_0036.png: 512x512\n",
      "val_image_0037.png: 512x512\n",
      "val_image_0038.png: 512x512\n",
      "val_image_0039.png: 512x512\n",
      "val_image_0040.png: 512x512\n",
      "val_image_0041.png: 512x512\n",
      "val_image_0042.png: 512x512\n",
      "val_image_0043.png: 512x512\n",
      "val_image_0044.png: 512x512\n",
      "val_image_0045.png: 512x512\n",
      "val_image_0046.png: 512x512\n",
      "val_image_0047.png: 512x512\n",
      "val_image_0048.png: 512x512\n",
      "val_image_0049.png: 512x512\n",
      "val_image_0050.png: 512x512\n",
      "val_image_0051.png: 512x512\n",
      "val_image_0052.png: 512x512\n",
      "val_image_0053.png: 512x512\n",
      "val_image_0054.png: 512x512\n",
      "val_image_0055.png: 512x512\n",
      "val_image_0056.png: 512x512\n",
      "val_image_0057.png: 512x512\n",
      "val_image_0058.png: 512x512\n",
      "val_image_0059.png: 512x512\n",
      "val_image_0060.png: 512x512\n",
      "val_image_0061.png: 512x512\n",
      "val_image_0062.png: 512x512\n",
      "val_image_0063.png: 512x512\n",
      "val_image_0064.png: 512x512\n",
      "val_image_0065.png: 512x512\n",
      "val_image_0066.png: 512x512\n",
      "val_image_0067.png: 512x512\n",
      "val_image_0068.png: 512x512\n",
      "val_image_0069.png: 512x512\n",
      "val_image_0070.png: 512x512\n",
      "val_image_0071.png: 512x512\n",
      "val_image_0072.png: 512x512\n",
      "val_image_0073.png: 512x512\n",
      "val_image_0074.png: 512x512\n",
      "val_image_0075.png: 512x512\n",
      "val_image_0076.png: 512x512\n",
      "val_image_0077.png: 512x512\n",
      "val_image_0078.png: 512x512\n",
      "val_image_0079.png: 512x512\n",
      "val_image_0080.png: 512x512\n",
      "val_image_0081.png: 512x512\n",
      "val_image_0082.png: 512x512\n",
      "val_image_0083.png: 512x512\n",
      "val_image_0084.png: 512x512\n",
      "val_image_0085.png: 512x512\n",
      "val_image_0086.png: 512x512\n",
      "val_image_0087.png: 512x512\n",
      "val_image_0088.png: 512x512\n",
      "val_image_0089.png: 512x512\n",
      "val_image_0090.png: 512x512\n",
      "val_image_0091.png: 512x512\n",
      "val_image_0092.png: 512x512\n",
      "val_image_0093.png: 512x512\n",
      "val_image_0094.png: 512x512\n",
      "val_image_0095.png: 512x512\n",
      "val_image_0096.png: 512x512\n",
      "val_image_0097.png: 512x512\n",
      "val_image_0098.png: 512x512\n",
      "val_image_0099.png: 512x512\n",
      "val_image_0100.png: 512x512\n",
      "val_image_0101.png: 512x512\n",
      "val_image_0102.png: 512x512\n",
      "val_image_0103.png: 512x512\n",
      "val_image_0104.png: 512x512\n",
      "val_image_0105.png: 512x512\n",
      "val_image_0106.png: 512x512\n",
      "val_image_0107.png: 512x512\n",
      "val_image_0108.png: 512x512\n",
      "val_image_0109.png: 512x512\n",
      "val_image_0110.png: 512x512\n",
      "val_image_0111.png: 512x512\n",
      "val_image_0112.png: 512x512\n",
      "val_image_0113.png: 512x512\n",
      "val_image_0114.png: 512x512\n",
      "val_image_0115.png: 512x512\n",
      "val_image_0116.png: 512x512\n",
      "val_image_0117.png: 512x512\n",
      "val_image_0118.png: 512x512\n",
      "val_image_0119.png: 512x512\n",
      "val_image_0120.png: 512x512\n",
      "val_image_0121.png: 512x512\n",
      "val_image_0122.png: 512x512\n",
      "val_image_0123.png: 512x512\n",
      "val_image_0124.png: 512x512\n",
      "val_image_0125.png: 512x512\n",
      "val_image_0126.png: 512x512\n",
      "val_image_0127.png: 512x512\n",
      "val_image_0128.png: 512x512\n",
      "val_image_0129.png: 512x512\n",
      "val_image_0130.png: 512x512\n",
      "val_image_0131.png: 512x512\n",
      "val_image_0132.png: 512x512\n",
      "val_image_0133.png: 512x512\n",
      "val_image_0134.png: 512x512\n",
      "val_image_0135.png: 512x512\n",
      "val_image_0136.png: 512x512\n",
      "val_image_0137.png: 512x512\n",
      "val_image_0138.png: 512x512\n",
      "val_image_0139.png: 512x512\n",
      "val_image_0140.png: 512x512\n",
      "val_image_0141.png: 512x512\n",
      "val_image_0142.png: 512x512\n",
      "val_image_0143.png: 512x512\n",
      "val_image_0144.png: 512x512\n",
      "val_image_0145.png: 512x512\n",
      "val_image_0146.png: 512x512\n"
     ]
    }
   ],
   "source": [
    "import os\n",
    "from PIL import Image\n",
    "image_dir = \"../data/Promise12MSBench/val/images\"\n",
    "\n",
    "for filename in os.listdir(image_dir):\n",
    "    path = os.path.join(image_dir, filename)\n",
    "    with Image.open(path) as image:\n",
    "            width, height = image.size\n",
    "            print(f\"{filename}: {width}x{height}\")\n",
    "                "
   ]
  },
  {
   "cell_type": "code",
   "execution_count": 2,
   "id": "3ea02e27",
   "metadata": {},
   "outputs": [
    {
     "name": "stdout",
     "output_type": "stream",
     "text": [
      "YOLO11m summary: 231 layers, 20,053,779 parameters, 0 gradients, 68.2 GFLOPs\n",
      "(231, 20053779, 0, 68.1886208)\n"
     ]
    }
   ],
   "source": [
    "from ultralytics import YOLO\n",
    "\n",
    "model = YOLO('../runs/detect/train3/weights/best.pt')\n",
    "print(model.info())"
   ]
  }
 ],
 "metadata": {
  "kernelspec": {
   "display_name": "yolo_sam",
   "language": "python",
   "name": "python3"
  },
  "language_info": {
   "codemirror_mode": {
    "name": "ipython",
    "version": 3
   },
   "file_extension": ".py",
   "mimetype": "text/x-python",
   "name": "python",
   "nbconvert_exporter": "python",
   "pygments_lexer": "ipython3",
   "version": "3.11.13"
  }
 },
 "nbformat": 4,
 "nbformat_minor": 5
}
